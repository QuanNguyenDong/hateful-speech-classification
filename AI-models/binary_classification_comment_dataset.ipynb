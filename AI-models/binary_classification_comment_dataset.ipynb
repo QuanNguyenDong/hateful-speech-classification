{
  "nbformat": 4,
  "nbformat_minor": 0,
  "metadata": {
    "colab": {
      "provenance": []
    },
    "kernelspec": {
      "name": "python3",
      "display_name": "Python 3"
    },
    "language_info": {
      "name": "python"
    }
  },
  "cells": [
    {
      "cell_type": "markdown",
      "source": [
        "<table align=\"center\">\n",
        "  <td align=\"center\"><a target=\"_blank\" href=\"https://colab.research.google.com/github/QuanNguyenDong/hateful-speech-classification/blob/main/AI-models/binary_classification_comment_dataset.ipynb\">\n",
        "        <img src=\"https://i.ibb.co/2P3SLwK/colab.png\"  style=\"padding-bottom:5px;\" />Run in Google Colab</a></td>\n",
        "  <td align=\"center\"><a target=\"_blank\" href=\"https://github.com/QuanNguyenDong/hateful-speech-classification/blob/main/AI-models/binary_classification_comment_dataset.ipynb\">\n",
        "        <img src=\"https://i.ibb.co/xfJbPmL/github.png\"  height=\"70px\" style=\"padding-bottom:5px;\"  />View Source on GitHub</a></td>\n",
        "</table>"
      ],
      "metadata": {
        "id": "83uOaAiVfjxp"
      }
    },
    {
      "cell_type": "code",
      "execution_count": null,
      "metadata": {
        "id": "ZV9ocKGEPJgS"
      },
      "outputs": [],
      "source": [
        "import pandas as pd\n",
        "import re\n",
        "import matplotlib.pyplot as plt\n",
        "import tensorflow as tf\n",
        "import numpy as np\n",
        "import string\n",
        "\n",
        "from tensorflow.keras import layers\n",
        "from tensorflow.keras import losses"
      ]
    },
    {
      "cell_type": "markdown",
      "source": [
        "# Import dataset\n",
        "First, the binary dataset that already being preprocessed is imported, with the labels are 1 for hateful comment and 0 for regular comment."
      ],
      "metadata": {
        "id": "C8yiQYYC51wJ"
      }
    },
    {
      "cell_type": "code",
      "source": [
        "path = \"https://media.githubusercontent.com/media/QuanNguyenDong/hateful-speech-classification/main/dataset/binary_comment_dataset.csv\"\n",
        "\n",
        "dataset = pd.read_csv(path, encoding='utf8')\n",
        "\n",
        "dataset.head()"
      ],
      "metadata": {
        "colab": {
          "base_uri": "https://localhost:8080/",
          "height": 206
        },
        "id": "tjYZYtuNRGAu",
        "outputId": "f846839b-59f1-4581-af99-4d72f9c88bc1"
      },
      "execution_count": null,
      "outputs": [
        {
          "output_type": "execute_result",
          "data": {
            "text/plain": [
              "                                        comment_text  hateful\n",
              "0  was taken from britannica and columbia encyclo...        0\n",
              "1  i think i got blocked for a bad reason as show...        1\n",
              "2  go ahead make my day go ahead and block me ada...        1\n",
              "3  request for arbitrationcoolkatt based on your ...        0\n",
              "4  you are nothing more than a malignant cancer o...        1"
            ],
            "text/html": [
              "\n",
              "  <div id=\"df-cfaf4ae1-0d83-4df7-93c0-a174697de472\" class=\"colab-df-container\">\n",
              "    <div>\n",
              "<style scoped>\n",
              "    .dataframe tbody tr th:only-of-type {\n",
              "        vertical-align: middle;\n",
              "    }\n",
              "\n",
              "    .dataframe tbody tr th {\n",
              "        vertical-align: top;\n",
              "    }\n",
              "\n",
              "    .dataframe thead th {\n",
              "        text-align: right;\n",
              "    }\n",
              "</style>\n",
              "<table border=\"1\" class=\"dataframe\">\n",
              "  <thead>\n",
              "    <tr style=\"text-align: right;\">\n",
              "      <th></th>\n",
              "      <th>comment_text</th>\n",
              "      <th>hateful</th>\n",
              "    </tr>\n",
              "  </thead>\n",
              "  <tbody>\n",
              "    <tr>\n",
              "      <th>0</th>\n",
              "      <td>was taken from britannica and columbia encyclo...</td>\n",
              "      <td>0</td>\n",
              "    </tr>\n",
              "    <tr>\n",
              "      <th>1</th>\n",
              "      <td>i think i got blocked for a bad reason as show...</td>\n",
              "      <td>1</td>\n",
              "    </tr>\n",
              "    <tr>\n",
              "      <th>2</th>\n",
              "      <td>go ahead make my day go ahead and block me ada...</td>\n",
              "      <td>1</td>\n",
              "    </tr>\n",
              "    <tr>\n",
              "      <th>3</th>\n",
              "      <td>request for arbitrationcoolkatt based on your ...</td>\n",
              "      <td>0</td>\n",
              "    </tr>\n",
              "    <tr>\n",
              "      <th>4</th>\n",
              "      <td>you are nothing more than a malignant cancer o...</td>\n",
              "      <td>1</td>\n",
              "    </tr>\n",
              "  </tbody>\n",
              "</table>\n",
              "</div>\n",
              "    <div class=\"colab-df-buttons\">\n",
              "\n",
              "  <div class=\"colab-df-container\">\n",
              "    <button class=\"colab-df-convert\" onclick=\"convertToInteractive('df-cfaf4ae1-0d83-4df7-93c0-a174697de472')\"\n",
              "            title=\"Convert this dataframe to an interactive table.\"\n",
              "            style=\"display:none;\">\n",
              "\n",
              "  <svg xmlns=\"http://www.w3.org/2000/svg\" height=\"24px\" viewBox=\"0 -960 960 960\">\n",
              "    <path d=\"M120-120v-720h720v720H120Zm60-500h600v-160H180v160Zm220 220h160v-160H400v160Zm0 220h160v-160H400v160ZM180-400h160v-160H180v160Zm440 0h160v-160H620v160ZM180-180h160v-160H180v160Zm440 0h160v-160H620v160Z\"/>\n",
              "  </svg>\n",
              "    </button>\n",
              "\n",
              "  <style>\n",
              "    .colab-df-container {\n",
              "      display:flex;\n",
              "      gap: 12px;\n",
              "    }\n",
              "\n",
              "    .colab-df-convert {\n",
              "      background-color: #E8F0FE;\n",
              "      border: none;\n",
              "      border-radius: 50%;\n",
              "      cursor: pointer;\n",
              "      display: none;\n",
              "      fill: #1967D2;\n",
              "      height: 32px;\n",
              "      padding: 0 0 0 0;\n",
              "      width: 32px;\n",
              "    }\n",
              "\n",
              "    .colab-df-convert:hover {\n",
              "      background-color: #E2EBFA;\n",
              "      box-shadow: 0px 1px 2px rgba(60, 64, 67, 0.3), 0px 1px 3px 1px rgba(60, 64, 67, 0.15);\n",
              "      fill: #174EA6;\n",
              "    }\n",
              "\n",
              "    .colab-df-buttons div {\n",
              "      margin-bottom: 4px;\n",
              "    }\n",
              "\n",
              "    [theme=dark] .colab-df-convert {\n",
              "      background-color: #3B4455;\n",
              "      fill: #D2E3FC;\n",
              "    }\n",
              "\n",
              "    [theme=dark] .colab-df-convert:hover {\n",
              "      background-color: #434B5C;\n",
              "      box-shadow: 0px 1px 3px 1px rgba(0, 0, 0, 0.15);\n",
              "      filter: drop-shadow(0px 1px 2px rgba(0, 0, 0, 0.3));\n",
              "      fill: #FFFFFF;\n",
              "    }\n",
              "  </style>\n",
              "\n",
              "    <script>\n",
              "      const buttonEl =\n",
              "        document.querySelector('#df-cfaf4ae1-0d83-4df7-93c0-a174697de472 button.colab-df-convert');\n",
              "      buttonEl.style.display =\n",
              "        google.colab.kernel.accessAllowed ? 'block' : 'none';\n",
              "\n",
              "      async function convertToInteractive(key) {\n",
              "        const element = document.querySelector('#df-cfaf4ae1-0d83-4df7-93c0-a174697de472');\n",
              "        const dataTable =\n",
              "          await google.colab.kernel.invokeFunction('convertToInteractive',\n",
              "                                                    [key], {});\n",
              "        if (!dataTable) return;\n",
              "\n",
              "        const docLinkHtml = 'Like what you see? Visit the ' +\n",
              "          '<a target=\"_blank\" href=https://colab.research.google.com/notebooks/data_table.ipynb>data table notebook</a>'\n",
              "          + ' to learn more about interactive tables.';\n",
              "        element.innerHTML = '';\n",
              "        dataTable['output_type'] = 'display_data';\n",
              "        await google.colab.output.renderOutput(dataTable, element);\n",
              "        const docLink = document.createElement('div');\n",
              "        docLink.innerHTML = docLinkHtml;\n",
              "        element.appendChild(docLink);\n",
              "      }\n",
              "    </script>\n",
              "  </div>\n",
              "\n",
              "\n",
              "<div id=\"df-9e68f965-b500-4166-8ce4-9fb2b579f776\">\n",
              "  <button class=\"colab-df-quickchart\" onclick=\"quickchart('df-9e68f965-b500-4166-8ce4-9fb2b579f776')\"\n",
              "            title=\"Suggest charts\"\n",
              "            style=\"display:none;\">\n",
              "\n",
              "<svg xmlns=\"http://www.w3.org/2000/svg\" height=\"24px\"viewBox=\"0 0 24 24\"\n",
              "     width=\"24px\">\n",
              "    <g>\n",
              "        <path d=\"M19 3H5c-1.1 0-2 .9-2 2v14c0 1.1.9 2 2 2h14c1.1 0 2-.9 2-2V5c0-1.1-.9-2-2-2zM9 17H7v-7h2v7zm4 0h-2V7h2v10zm4 0h-2v-4h2v4z\"/>\n",
              "    </g>\n",
              "</svg>\n",
              "  </button>\n",
              "\n",
              "<style>\n",
              "  .colab-df-quickchart {\n",
              "      --bg-color: #E8F0FE;\n",
              "      --fill-color: #1967D2;\n",
              "      --hover-bg-color: #E2EBFA;\n",
              "      --hover-fill-color: #174EA6;\n",
              "      --disabled-fill-color: #AAA;\n",
              "      --disabled-bg-color: #DDD;\n",
              "  }\n",
              "\n",
              "  [theme=dark] .colab-df-quickchart {\n",
              "      --bg-color: #3B4455;\n",
              "      --fill-color: #D2E3FC;\n",
              "      --hover-bg-color: #434B5C;\n",
              "      --hover-fill-color: #FFFFFF;\n",
              "      --disabled-bg-color: #3B4455;\n",
              "      --disabled-fill-color: #666;\n",
              "  }\n",
              "\n",
              "  .colab-df-quickchart {\n",
              "    background-color: var(--bg-color);\n",
              "    border: none;\n",
              "    border-radius: 50%;\n",
              "    cursor: pointer;\n",
              "    display: none;\n",
              "    fill: var(--fill-color);\n",
              "    height: 32px;\n",
              "    padding: 0;\n",
              "    width: 32px;\n",
              "  }\n",
              "\n",
              "  .colab-df-quickchart:hover {\n",
              "    background-color: var(--hover-bg-color);\n",
              "    box-shadow: 0 1px 2px rgba(60, 64, 67, 0.3), 0 1px 3px 1px rgba(60, 64, 67, 0.15);\n",
              "    fill: var(--button-hover-fill-color);\n",
              "  }\n",
              "\n",
              "  .colab-df-quickchart-complete:disabled,\n",
              "  .colab-df-quickchart-complete:disabled:hover {\n",
              "    background-color: var(--disabled-bg-color);\n",
              "    fill: var(--disabled-fill-color);\n",
              "    box-shadow: none;\n",
              "  }\n",
              "\n",
              "  .colab-df-spinner {\n",
              "    border: 2px solid var(--fill-color);\n",
              "    border-color: transparent;\n",
              "    border-bottom-color: var(--fill-color);\n",
              "    animation:\n",
              "      spin 1s steps(1) infinite;\n",
              "  }\n",
              "\n",
              "  @keyframes spin {\n",
              "    0% {\n",
              "      border-color: transparent;\n",
              "      border-bottom-color: var(--fill-color);\n",
              "      border-left-color: var(--fill-color);\n",
              "    }\n",
              "    20% {\n",
              "      border-color: transparent;\n",
              "      border-left-color: var(--fill-color);\n",
              "      border-top-color: var(--fill-color);\n",
              "    }\n",
              "    30% {\n",
              "      border-color: transparent;\n",
              "      border-left-color: var(--fill-color);\n",
              "      border-top-color: var(--fill-color);\n",
              "      border-right-color: var(--fill-color);\n",
              "    }\n",
              "    40% {\n",
              "      border-color: transparent;\n",
              "      border-right-color: var(--fill-color);\n",
              "      border-top-color: var(--fill-color);\n",
              "    }\n",
              "    60% {\n",
              "      border-color: transparent;\n",
              "      border-right-color: var(--fill-color);\n",
              "    }\n",
              "    80% {\n",
              "      border-color: transparent;\n",
              "      border-right-color: var(--fill-color);\n",
              "      border-bottom-color: var(--fill-color);\n",
              "    }\n",
              "    90% {\n",
              "      border-color: transparent;\n",
              "      border-bottom-color: var(--fill-color);\n",
              "    }\n",
              "  }\n",
              "</style>\n",
              "\n",
              "  <script>\n",
              "    async function quickchart(key) {\n",
              "      const quickchartButtonEl =\n",
              "        document.querySelector('#' + key + ' button');\n",
              "      quickchartButtonEl.disabled = true;  // To prevent multiple clicks.\n",
              "      quickchartButtonEl.classList.add('colab-df-spinner');\n",
              "      try {\n",
              "        const charts = await google.colab.kernel.invokeFunction(\n",
              "            'suggestCharts', [key], {});\n",
              "      } catch (error) {\n",
              "        console.error('Error during call to suggestCharts:', error);\n",
              "      }\n",
              "      quickchartButtonEl.classList.remove('colab-df-spinner');\n",
              "      quickchartButtonEl.classList.add('colab-df-quickchart-complete');\n",
              "    }\n",
              "    (() => {\n",
              "      let quickchartButtonEl =\n",
              "        document.querySelector('#df-9e68f965-b500-4166-8ce4-9fb2b579f776 button');\n",
              "      quickchartButtonEl.style.display =\n",
              "        google.colab.kernel.accessAllowed ? 'block' : 'none';\n",
              "    })();\n",
              "  </script>\n",
              "</div>\n",
              "\n",
              "    </div>\n",
              "  </div>\n"
            ],
            "application/vnd.google.colaboratory.intrinsic+json": {
              "type": "dataframe",
              "variable_name": "dataset"
            }
          },
          "metadata": {},
          "execution_count": 2
        }
      ]
    },
    {
      "cell_type": "markdown",
      "source": [
        "Next, the data is splitted in to 3 parts:\n",
        "\n",
        "*   Training dataset: feed into model for training the behaviour (70% of whole data)\n",
        "*   Validation dataset: use to validate the model whether it is fit, overfit or underfit (20%)\n",
        "*   Testing dataset: use for test and evaluation of the model (10%)\n",
        "\n",
        "\n"
      ],
      "metadata": {
        "id": "VRJhgM4u6PH0"
      }
    },
    {
      "cell_type": "code",
      "source": [
        "raw_train, raw_validation, raw_test = np.split(\n",
        "    dataset.sample(frac=1),\n",
        "    [int(0.7*len(dataset)), int(0.9*len(dataset))]\n",
        ")\n",
        "\n",
        "print(len(raw_train), 'training examples')\n",
        "print(len(raw_validation), 'validation examples')\n",
        "print(len(raw_test), 'test examples')"
      ],
      "metadata": {
        "colab": {
          "base_uri": "https://localhost:8080/"
        },
        "id": "N2ay4Nvikjzq",
        "outputId": "2c6ba99c-89d0-4d37-aca8-b7b5b1e1e739"
      },
      "execution_count": null,
      "outputs": [
        {
          "output_type": "stream",
          "name": "stdout",
          "text": [
            "200652 training examples\n",
            "57329 validation examples\n",
            "28665 test examples\n"
          ]
        }
      ]
    },
    {
      "cell_type": "markdown",
      "source": [
        "Since we work with Tensorflow, we need to convert pandas Dataframe to Tensorflow Dataset. The data is shuffling to ensure the random order and avoid bias. Meanwhile, the **batch**  function is called to divide data into smaller group with of size **batch_size**"
      ],
      "metadata": {
        "id": "NfedT7bPUbbr"
      }
    },
    {
      "cell_type": "code",
      "source": [
        "def dataframe_to_dataset(dataframe, shuffle=True, batch_size=512):\n",
        "    df = dataframe.copy()\n",
        "    labels = df.pop('hateful')\n",
        "    df = df['comment_text'].astype(str)\n",
        "    ds = tf.data.Dataset.from_tensor_slices((df, labels))\n",
        "\n",
        "    if shuffle:\n",
        "        ds = ds.shuffle(buffer_size=len(dataframe))\n",
        "\n",
        "    ds = ds.batch(batch_size)\n",
        "    return ds\n",
        "\n",
        "raw_train_ds = dataframe_to_dataset(raw_train)\n",
        "raw_val_ds = dataframe_to_dataset(raw_validation)\n",
        "raw_test_ds = dataframe_to_dataset(raw_test)"
      ],
      "metadata": {
        "id": "__4b7N8ARSwj"
      },
      "execution_count": null,
      "outputs": []
    },
    {
      "cell_type": "markdown",
      "source": [
        "# Text Vectorization\n",
        "\n",
        "The first layer of the model is **Text Vectorization** which converts the human string to number array. This is an preprocessing approach because neural network or even computer is not friendly with text but numeric data. There are some parameters that need to notice: **max_features** is vocabulary size of dataset (is restricted to 200,000), **sequence_length** defines the length of output (it will truncate the output to that length), the **output_mode='int'** cast the output array to an integer arr. Before using the layer, we adapt it with the train text so that the layer learns the vocabulary and dataset.\n",
        "\n",
        "As the next step, we vectorize all of the dataset. The **vectorize_text** function will take 2 strings text and label, expanding the dimension of text tensor to match the expected input. In the last part, **cache(**) caches the dataset in memory to avoid bottlenecks and **prefetch** prefetches data for optimal performance, allowing for the automatic tuning of the buffer size.\n"
      ],
      "metadata": {
        "id": "5l75rmHRbk-n"
      }
    },
    {
      "cell_type": "code",
      "source": [
        "max_features = 200000\n",
        "sequence_length = 300\n",
        "\n",
        "def custom_standardization(input):\n",
        "    lowercase = tf.strings.lower(input)\n",
        "    return tf.strings.regex_replace(lowercase,\n",
        "                                    '[%s]' % re.escape(string.punctuation),\n",
        "                                    '')\n",
        "\n",
        "vectorize_layer = layers.TextVectorization(\n",
        "    standardize=custom_standardization,\n",
        "    max_tokens=max_features,\n",
        "    output_sequence_length=sequence_length,\n",
        "    output_mode='int'\n",
        ")\n",
        "train_text = raw_train_ds.map(lambda text, labels: text)\n",
        "vectorize_layer.adapt(train_text)\n",
        "\n",
        "def vectorize_text(text, label):\n",
        "    text = tf.expand_dims(text, -1)\n",
        "    return vectorize_layer(text), label\n",
        "\n",
        "train_ds = raw_train_ds.map(vectorize_text)\n",
        "val_ds = raw_val_ds.map(vectorize_text)\n",
        "test_ds = raw_test_ds.map(vectorize_text)\n",
        "\n",
        "train_ds = train_ds.cache().prefetch(buffer_size=tf.data.AUTOTUNE)\n",
        "val_ds = val_ds.cache().prefetch(buffer_size=tf.data.AUTOTUNE)\n",
        "test_ds = test_ds.cache().prefetch(buffer_size=tf.data.AUTOTUNE)"
      ],
      "metadata": {
        "id": "H9Mu7-J6aX56"
      },
      "execution_count": null,
      "outputs": []
    },
    {
      "cell_type": "markdown",
      "source": [
        "# Neural Network\n"
      ],
      "metadata": {
        "id": "-fHVhpykb8fk"
      }
    },
    {
      "cell_type": "code",
      "source": [
        "embedding_dim = 32\n",
        "\n",
        "model = tf.keras.Sequential([\n",
        "    layers.Input(shape=(sequence_length,)),\n",
        "    layers.Embedding(\n",
        "        input_dim=max_features,\n",
        "        output_dim=embedding_dim\n",
        "    ),\n",
        "    layers.Dropout(0.2),\n",
        "    layers.GlobalMaxPool1D(),\n",
        "    layers.Dropout(0.2),\n",
        "    layers.Dense(256, activation='relu'),\n",
        "    layers.Dense(1, activation='sigmoid')\n",
        "])\n",
        "\n",
        "model.summary()\n",
        "\n",
        "model.compile(loss=losses.BinaryCrossentropy(),\n",
        "              optimizer='adam',\n",
        "              metrics=[tf.metrics.BinaryAccuracy(threshold=0.5)])"
      ],
      "metadata": {
        "colab": {
          "base_uri": "https://localhost:8080/"
        },
        "id": "G5IlzJkdae4f",
        "outputId": "04e59b3a-8137-4bd6-a5a9-b3edff2d9f83"
      },
      "execution_count": null,
      "outputs": [
        {
          "output_type": "stream",
          "name": "stdout",
          "text": [
            "Model: \"sequential\"\n",
            "_________________________________________________________________\n",
            " Layer (type)                Output Shape              Param #   \n",
            "=================================================================\n",
            " embedding (Embedding)       (None, 300, 32)           6400000   \n",
            "                                                                 \n",
            " dropout (Dropout)           (None, 300, 32)           0         \n",
            "                                                                 \n",
            " global_max_pooling1d (Glob  (None, 32)                0         \n",
            " alMaxPooling1D)                                                 \n",
            "                                                                 \n",
            " dropout_1 (Dropout)         (None, 32)                0         \n",
            "                                                                 \n",
            " dense (Dense)               (None, 256)               8448      \n",
            "                                                                 \n",
            " dense_1 (Dense)             (None, 1)                 257       \n",
            "                                                                 \n",
            "=================================================================\n",
            "Total params: 6408705 (24.45 MB)\n",
            "Trainable params: 6408705 (24.45 MB)\n",
            "Non-trainable params: 0 (0.00 Byte)\n",
            "_________________________________________________________________\n"
          ]
        }
      ]
    },
    {
      "cell_type": "markdown",
      "source": [
        "# Training\n",
        "\n",
        "Now we'll train the model with 7 epochs. Notice that loss is descreasing and accuray is increasing over time."
      ],
      "metadata": {
        "id": "r_ZeMCjla9W4"
      }
    },
    {
      "cell_type": "code",
      "source": [
        "epochs = 7\n",
        "\n",
        "history = model.fit(\n",
        "  train_ds,\n",
        "  validation_data=val_ds,\n",
        "  epochs=epochs\n",
        ")"
      ],
      "metadata": {
        "id": "FFVSSfVwa801",
        "colab": {
          "base_uri": "https://localhost:8080/"
        },
        "outputId": "8c31876e-8f31-42b5-98b2-067039551ad3"
      },
      "execution_count": null,
      "outputs": [
        {
          "output_type": "stream",
          "name": "stdout",
          "text": [
            "Epoch 1/7\n",
            "392/392 [==============================] - 75s 188ms/step - loss: 0.3461 - binary_accuracy: 0.8426 - val_loss: 0.1580 - val_binary_accuracy: 0.9453\n",
            "Epoch 2/7\n",
            "392/392 [==============================] - 67s 171ms/step - loss: 0.1726 - binary_accuracy: 0.9352 - val_loss: 0.1121 - val_binary_accuracy: 0.9628\n",
            "Epoch 3/7\n",
            "392/392 [==============================] - 65s 166ms/step - loss: 0.1284 - binary_accuracy: 0.9529 - val_loss: 0.0966 - val_binary_accuracy: 0.9686\n",
            "Epoch 4/7\n",
            "392/392 [==============================] - 68s 172ms/step - loss: 0.1042 - binary_accuracy: 0.9624 - val_loss: 0.0870 - val_binary_accuracy: 0.9719\n",
            "Epoch 5/7\n",
            "392/392 [==============================] - 66s 167ms/step - loss: 0.0901 - binary_accuracy: 0.9677 - val_loss: 0.0869 - val_binary_accuracy: 0.9712\n",
            "Epoch 6/7\n",
            "392/392 [==============================] - 68s 174ms/step - loss: 0.0795 - binary_accuracy: 0.9715 - val_loss: 0.0852 - val_binary_accuracy: 0.9714\n",
            "Epoch 7/7\n",
            "392/392 [==============================] - 65s 166ms/step - loss: 0.0730 - binary_accuracy: 0.9743 - val_loss: 0.0802 - val_binary_accuracy: 0.9733\n"
          ]
        }
      ]
    },
    {
      "cell_type": "markdown",
      "source": [
        "# Evaluation\n",
        "\n",
        "We will evaluate the model with the test dataset. The number is not big different with training dataset indicating the model is not overfitting."
      ],
      "metadata": {
        "id": "U81Z5SWdsrnm"
      }
    },
    {
      "cell_type": "code",
      "source": [
        "loss, accuracy = model.evaluate(test_ds)\n",
        "\n",
        "print(f\"Loss:     {loss}\")\n",
        "print(f\"Accuracy: {accuracy}\")"
      ],
      "metadata": {
        "id": "YSILE7XBeWfe",
        "colab": {
          "base_uri": "https://localhost:8080/"
        },
        "outputId": "4d4ba392-99ca-4548-f004-06b4466f7817"
      },
      "execution_count": null,
      "outputs": [
        {
          "output_type": "stream",
          "name": "stdout",
          "text": [
            "56/56 [==============================] - 1s 14ms/step - loss: 0.0794 - binary_accuracy: 0.9737\n",
            "Loss:     0.07937939465045929\n",
            "Accuracy: 0.9736961722373962\n"
          ]
        }
      ]
    },
    {
      "cell_type": "markdown",
      "source": [
        "The diagram below shows the training/ validation loss and accuracy over epochs helping us visualize the model's learning process and performance."
      ],
      "metadata": {
        "id": "d72VEycKXjSB"
      }
    },
    {
      "cell_type": "code",
      "source": [
        "history_dict = history.history\n",
        "\n",
        "acc = history_dict['binary_accuracy']\n",
        "val_acc = history_dict['val_binary_accuracy']\n",
        "loss = history_dict['loss']\n",
        "val_loss = history_dict['val_loss']\n",
        "\n",
        "epochs = range(1, len(acc) + 1)\n",
        "\n",
        "plt.figure(figsize=(8, 4))\n",
        "plt.plot(epochs, loss, 'r', label='Training loss')\n",
        "plt.plot(epochs, val_loss, 'b', label='Validation loss')\n",
        "plt.title('Training and validation loss')\n",
        "plt.xlabel('Epochs')\n",
        "plt.ylabel('Loss')\n",
        "plt.yticks(np.arange(0, 1.2, 0.2))\n",
        "plt.xticks(np.arange(0, len(acc) + 1, 1))\n",
        "plt.legend()\n",
        "\n",
        "plt.show()"
      ],
      "metadata": {
        "id": "Sac9R66js1VF",
        "colab": {
          "base_uri": "https://localhost:8080/",
          "height": 410
        },
        "outputId": "9f87f9e6-0704-4dc8-b859-5d041bddf0f4"
      },
      "execution_count": null,
      "outputs": [
        {
          "output_type": "display_data",
          "data": {
            "text/plain": [
              "<Figure size 800x400 with 1 Axes>"
            ],
            "image/png": "[encoded data removed]"
          },
          "metadata": {}
        }
      ]
    },
    {
      "cell_type": "code",
      "source": [
        "plt.figure(figsize=(8, 4))\n",
        "plt.plot(epochs, acc, 'r', label='Training acc')\n",
        "plt.plot(epochs, val_acc, 'b', label='Validation acc')\n",
        "plt.title('Training and validation accuracy')\n",
        "plt.xlabel('Epochs')\n",
        "plt.ylabel('Accuracy')\n",
        "plt.yticks(np.arange(0, 1.2, 0.2))\n",
        "plt.xticks(np.arange(0, len(acc) + 1, 1))\n",
        "plt.legend(loc='lower right')\n",
        "\n",
        "plt.show()"
      ],
      "metadata": {
        "id": "kbCMmftduMg2",
        "colab": {
          "base_uri": "https://localhost:8080/",
          "height": 410
        },
        "outputId": "3e198b6e-53f7-4652-f2c2-3b2e6398ef1b"
      },
      "execution_count": null,
      "outputs": [
        {
          "output_type": "display_data",
          "data": {
            "text/plain": [
              "<Figure size 800x400 with 1 Axes>"
            ],
            "image/png": "[encoded data removed]"
          },
          "metadata": {}
        }
      ]
    },
    {
      "cell_type": "markdown",
      "source": [
        "# Exporting the model\n",
        "\n",
        "The model we defined above takes vectors as an input. To simplify deploying it and make the model capable of processing raw string, we include the **vectorize_layer** in the export model."
      ],
      "metadata": {
        "id": "ePRmsIHIus51"
      }
    },
    {
      "cell_type": "code",
      "source": [
        "export_model = tf.keras.Sequential([\n",
        "  vectorize_layer,\n",
        "  model\n",
        "])\n",
        "\n",
        "export_model.compile(loss=losses.BinaryCrossentropy(),\n",
        "                      optimizer='adam',\n",
        "                      metrics=[tf.metrics.BinaryAccuracy(threshold=0.5)])"
      ],
      "metadata": {
        "id": "GSs3ckOMuxFx"
      },
      "execution_count": null,
      "outputs": []
    },
    {
      "cell_type": "markdown",
      "source": [
        "We can pass the raw string to the NN model. Let's get the model predicts some comments and see the results. The model's output is the probability of the each type of text. For example, hate has 0.95 means the text is 95% a hateful comment."
      ],
      "metadata": {
        "id": "FliYxD-aZd5V"
      }
    },
    {
      "cell_type": "code",
      "source": [
        "inputs = [\n",
        "    \"Wish you cut your veins. Don't shout out you have mental problem\",\n",
        "    \"that's funny, I always pay them and I've never been to lunch\",\n",
        "    \"The thing is , your debt to the bank is an asset for them to leverage more money from the treasury or central bank.\",\n",
        "    \"FUCKING NIGGER GO BACK TO AFRICA\"\n",
        "]\n",
        "\n",
        "examples = tf.constant(inputs)\n",
        "\n",
        "predictions = export_model.predict(examples)\n",
        "\n",
        "def plot_value_array(percent):\n",
        "  thisplot = plt.bar(range(2), [percent, 1.0 - percent], color=\"#777777\")\n",
        "  plt.xticks(range(2), ['hate', 'normal'])\n",
        "  plt.yticks([0, 0.5, 1])\n",
        "  plt.ylim([0, 1])\n",
        "  predicted_label = 0 if percent >= 0.5 else 1\n",
        "  thisplot[predicted_label].set_color('red')\n",
        "\n",
        "for i in range(len(inputs)):\n",
        "  plt.figure(figsize=(2, 2))\n",
        "  print(inputs[i])\n",
        "  plot_value_array(predictions[i][0])\n",
        "  plt.show()"
      ],
      "metadata": {
        "id": "Lkz8zQbvvCfh",
        "colab": {
          "base_uri": "https://localhost:8080/",
          "height": 916
        },
        "outputId": "d1e5adcc-c661-4ea6-98a1-8d079df51c13"
      },
      "execution_count": null,
      "outputs": [
        {
          "output_type": "stream",
          "name": "stdout",
          "text": [
            "1/1 [==============================] - 0s 20ms/step\n",
            "Wish you cut your veins. Don't shout out you have mental problem\n"
          ]
        },
        {
          "output_type": "display_data",
          "data": {
            "text/plain": [
              "<Figure size 200x200 with 1 Axes>"
            ],
            "image/png": "[encoded data removed]"
          },
          "metadata": {}
        },
        {
          "output_type": "stream",
          "name": "stdout",
          "text": [
            "that's funny, I always pay them and I've never been to lunch\n"
          ]
        },
        {
          "output_type": "display_data",
          "data": {
            "text/plain": [
              "<Figure size 200x200 with 1 Axes>"
            ],
            "image/png": "[encoded data removed]"
          },
          "metadata": {}
        },
        {
          "output_type": "stream",
          "name": "stdout",
          "text": [
            "The thing is , your debt to the bank is an asset for them to leverage more money from the treasury or central bank.\n"
          ]
        },
        {
          "output_type": "display_data",
          "data": {
            "text/plain": [
              "<Figure size 200x200 with 1 Axes>"
            ],
            "image/png": "[encoded data removed]"
          },
          "metadata": {}
        },
        {
          "output_type": "stream",
          "name": "stdout",
          "text": [
            "FUCKING NIGGER GO BACK TO AFRICA\n"
          ]
        },
        {
          "output_type": "display_data",
          "data": {
            "text/plain": [
              "<Figure size 200x200 with 1 Axes>"
            ],
            "image/png": "[encoded data removed]"
          },
          "metadata": {}
        }
      ]
    },
    {
      "cell_type": "markdown",
      "source": [
        "Lastly, the trained model is saved and ready for deployment.\n",
        "\n"
      ],
      "metadata": {
        "id": "g1YYPnyRZ0gH"
      }
    },
    {
      "cell_type": "code",
      "source": [
        "export_model.save('drive/MyDrive/saved-models/binary-NN-model', save_format='tf')\n",
        "export_model.save('drive/MyDrive/saved-models/binary-NN-model.keras')\n",
        "\n",
        "pretrained_model = tf.saved_model.load('drive/MyDrive/saved-models/binary-NN-model')"
      ],
      "metadata": {
        "id": "wZrdeXfPF7ZE"
      },
      "execution_count": null,
      "outputs": []
    }
  ]
}